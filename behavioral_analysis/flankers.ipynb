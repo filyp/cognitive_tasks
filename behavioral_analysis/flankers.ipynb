{
 "cells": [
  {
   "cell_type": "code",
   "execution_count": null,
   "metadata": {},
   "outputs": [],
   "source": [
    "import csv\n",
    "import os\n",
    "import glob\n",
    "\n",
    "import numpy as np"
   ]
  },
  {
   "cell_type": "code",
   "execution_count": null,
   "metadata": {},
   "outputs": [],
   "source": [
    "behavioral_data_glob = os.path.join(\"results\", \"full\", \"behavioral_data\", \"*.csv\")\n",
    "files = glob.glob(behavioral_data_glob)\n",
    "files.sort(key=os.path.getctime)\n",
    "most_recent_file = files[-1]\n",
    "most_recent_file"
   ]
  },
  {
   "cell_type": "code",
   "execution_count": null,
   "metadata": {},
   "outputs": [],
   "source": [
    "with open(most_recent_file, \"r\") as file:\n",
    "    reader = csv.DictReader(file)\n",
    "    rows = [row for row in reader]\n",
    "\n",
    "# cluster into blocks\n",
    "blocks = []\n",
    "for previous_row, current_row in zip([dict()] + rows[:-1], rows):\n",
    "    if previous_row.get(\"block_type\") != current_row.get(\"block_type\"):\n",
    "        # next_row is in a new block\n",
    "        blocks.append((current_row.get(\"block_type\"), []))\n",
    "    # append row to the latest block\n",
    "    blocks[-1][1].append(current_row)\n",
    "\n"
   ]
  },
  {
   "cell_type": "code",
   "execution_count": null,
   "metadata": {},
   "outputs": [],
   "source": [
    "experiment_block = blocks[-1][1]    # TODO make it general\n",
    "\n",
    "congruent_correct_rts = []\n",
    "incongruent_correct_rts = []\n",
    "congruent_error_rts = []\n",
    "incongruent_error_rts = []\n",
    "\n",
    "for row in experiment_block:\n",
    "    rt = row[\"rt\"]\n",
    "    if rt == \"\":\n",
    "        # no reaction was given\n",
    "        continue\n",
    "    rt = float(rt)\n",
    "    if row[\"target_name\"] in [\"congruent_lll\", \"congruent_rrr\"]:\n",
    "        if row[\"reaction\"] == \"correct\":\n",
    "            congruent_correct_rts.append(rt)\n",
    "        elif row[\"reaction\"] == \"incorrect\":\n",
    "            congruent_error_rts.append(rt)\n",
    "        else:\n",
    "            raise Exception()\n",
    "    elif row[\"target_name\"] in [\"incongruent_lrl\", \"incongruent_rlr\"]:\n",
    "        if row[\"reaction\"] == \"correct\":\n",
    "            incongruent_correct_rts.append(rt)\n",
    "        elif row[\"reaction\"] == \"incorrect\":\n",
    "            incongruent_error_rts.append(rt)\n",
    "        else:\n",
    "            raise Exception()\n",
    "    else:\n",
    "        raise Exception()\n",
    "\n"
   ]
  },
  {
   "cell_type": "code",
   "execution_count": null,
   "metadata": {},
   "outputs": [],
   "source": [
    "def stats(data):\n",
    "    if len(data) < 2:\n",
    "        return \"      -      \"\n",
    "    mean = np.mean(data)\n",
    "    # use ddof=1 to calculate sample std, not population std\n",
    "    standard_error = np.std(data, ddof=1) / np.sqrt(len(data))\n",
    "    return f\"{mean:.3f} ± {standard_error:.3f}\"\n",
    "\n",
    "\n",
    "def print_len(data):\n",
    "    return f\"{len(data):8d}     \""
   ]
  },
  {
   "cell_type": "code",
   "execution_count": null,
   "metadata": {},
   "outputs": [],
   "source": [
    "print(f\"\"\"\n",
    "REACTION TIMES:\n",
    "             |     CORRECT     |      ERROR      |       ALL       |\n",
    "CONGRUENT    |  {stats(congruent_correct_rts)}  |  {stats(congruent_error_rts)}  |  {stats(congruent_correct_rts + congruent_error_rts)}  |\n",
    "INCONGRUENT  |  {stats(incongruent_correct_rts)}  |  {stats(incongruent_error_rts)}  |  {stats(incongruent_correct_rts + incongruent_error_rts)}  |\n",
    "ALL          |  {stats(congruent_correct_rts + incongruent_correct_rts)}  |  {stats(congruent_error_rts + incongruent_error_rts)}  |  {stats(congruent_correct_rts + congruent_error_rts + incongruent_correct_rts + incongruent_error_rts)}  |\n",
    "\n",
    "\n",
    "NUMBER OF TRIALS:\n",
    "             |     CORRECT     |      ERROR      |       ALL       |\n",
    "CONGRUENT    |  {print_len(congruent_correct_rts)}  |  {print_len(congruent_error_rts)}  |  {print_len(congruent_correct_rts + congruent_error_rts)}  |\n",
    "INCONGRUENT  |  {print_len(incongruent_correct_rts)}  |  {print_len(incongruent_error_rts)}  |  {print_len(incongruent_correct_rts + incongruent_error_rts)}  |\n",
    "ALL          |  {print_len(congruent_correct_rts + incongruent_correct_rts)}  |  {print_len(congruent_error_rts + incongruent_error_rts)}  |  {print_len(congruent_correct_rts + congruent_error_rts + incongruent_correct_rts + incongruent_error_rts)}  |\n",
    "\"\"\")"
   ]
  },
  {
   "cell_type": "code",
   "execution_count": null,
   "metadata": {},
   "outputs": [],
   "source": [
    "from collections import Counter\n",
    "\n",
    "c = Counter()\n",
    "\n",
    "for trial in experiment_block:\n",
    "    rt = trial[\"rt\"]\n",
    "    feedback_type = trial[\"feedback_type\"]\n",
    "    threshold_rt = trial[\"threshold_rt\"]\n",
    "    print(rt, feedback_type, threshold_rt)\n",
    "    c.update([feedback_type])\n",
    "\n"
   ]
  },
  {
   "cell_type": "code",
   "execution_count": null,
   "metadata": {},
   "outputs": [],
   "source": [
    "c"
   ]
  },
  {
   "cell_type": "code",
   "execution_count": null,
   "metadata": {},
   "outputs": [],
   "source": []
  }
 ],
 "metadata": {
  "interpreter": {
   "hash": "7348420d5747b932454f8b240e8a4f1789a39ad7a05a02f3d064d8015316c09c"
  },
  "kernelspec": {
   "display_name": "Python 3.8.12 64-bit ('venv': venv)",
   "language": "python",
   "name": "python3"
  },
  "language_info": {
   "codemirror_mode": {
    "name": "ipython",
    "version": 3
   },
   "file_extension": ".py",
   "mimetype": "text/x-python",
   "name": "python",
   "nbconvert_exporter": "python",
   "pygments_lexer": "ipython3",
   "version": "3.8.12"
  }
 },
 "nbformat": 4,
 "nbformat_minor": 2
}
