{
 "cells": [
  {
   "cell_type": "code",
   "execution_count": 16,
   "metadata": {},
   "outputs": [],
   "source": [
    "import csv\n",
    "import os\n",
    "import glob\n",
    "\n",
    "import numpy as np"
   ]
  },
  {
   "cell_type": "code",
   "execution_count": 17,
   "metadata": {},
   "outputs": [
    {
     "data": {
      "text/plain": [
       "'results/full/behavioral_data/beh__Mezczyzna__-_2022-02-09 16-12.csv'"
      ]
     },
     "execution_count": 17,
     "metadata": {},
     "output_type": "execute_result"
    }
   ],
   "source": [
    "behavioral_data_glob = os.path.join(\"results\", \"full\", \"behavioral_data\", \"*.csv\")\n",
    "files = glob.glob(behavioral_data_glob)\n",
    "files.sort(key=os.path.getctime)\n",
    "most_recent_file = files[-1]\n",
    "most_recent_file"
   ]
  },
  {
   "cell_type": "code",
   "execution_count": 18,
   "metadata": {},
   "outputs": [],
   "source": [
    "with open(most_recent_file, \"r\") as file:\n",
    "    reader = csv.DictReader(file)\n",
    "    rows = [row for row in reader]\n",
    "\n",
    "# cluster into blocks\n",
    "blocks = []\n",
    "for previous_row, current_row in zip([dict()] + rows[:-1], rows):\n",
    "    if previous_row.get(\"block_type\") != current_row.get(\"block_type\"):\n",
    "        # next_row is in a new block\n",
    "        blocks.append((current_row.get(\"block_type\"), []))\n",
    "    # append row to the latest block\n",
    "    blocks[-1][1].append(current_row)\n",
    "\n"
   ]
  },
  {
   "cell_type": "code",
   "execution_count": 19,
   "metadata": {},
   "outputs": [],
   "source": [
    "experiment_block = blocks[-1][1]    # TODO make it general\n",
    "\n",
    "congruent_correct_rts = []\n",
    "incongruent_correct_rts = []\n",
    "congruent_error_rts = []\n",
    "incongruent_error_rts = []\n",
    "\n",
    "for row in experiment_block:\n",
    "    rt = row[\"rt\"]\n",
    "    if rt == \"\":\n",
    "        # no reaction was given\n",
    "        continue\n",
    "    rt = float(rt)\n",
    "    if row[\"target_name\"] in [\"congruent_lll\", \"congruent_rrr\"]:\n",
    "        if row[\"reaction\"] == \"correct\":\n",
    "            congruent_correct_rts.append(rt)\n",
    "        elif row[\"reaction\"] == \"incorrect\":\n",
    "            congruent_error_rts.append(rt)\n",
    "        else:\n",
    "            raise Exception()\n",
    "    elif row[\"target_name\"] in [\"incongruent_lrl\", \"incongruent_rlr\"]:\n",
    "        if row[\"reaction\"] == \"correct\":\n",
    "            incongruent_correct_rts.append(rt)\n",
    "        elif row[\"reaction\"] == \"incorrect\":\n",
    "            incongruent_error_rts.append(rt)\n",
    "        else:\n",
    "            raise Exception()\n",
    "    else:\n",
    "        raise Exception()\n",
    "\n"
   ]
  },
  {
   "cell_type": "code",
   "execution_count": 21,
   "metadata": {},
   "outputs": [],
   "source": [
    "def stats(data):\n",
    "    if len(data) < 2:\n",
    "        return \"      -      \"\n",
    "    mean = np.mean(data)\n",
    "    # use ddof=1 to calculate sample std, not population std\n",
    "    standard_error = np.std(data, ddof=1) / np.sqrt(len(data))\n",
    "    return f\"{mean:.3f} ± {standard_error:.3f}\"\n",
    "\n",
    "\n",
    "def print_len(data):\n",
    "    return f\"{len(data):8d}     \""
   ]
  },
  {
   "cell_type": "code",
   "execution_count": 22,
   "metadata": {},
   "outputs": [
    {
     "name": "stdout",
     "output_type": "stream",
     "text": [
      "\n",
      "REACTION TIMES:\n",
      "             |     CORRECT     |      ERROR      |       ALL       |\n",
      "CONGRUENT    |  0.278 ± 0.007  |  0.297 ± 0.066  |  0.281 ± 0.011  |\n",
      "INCONGRUENT  |  0.356 ± 0.017  |  0.249 ± 0.030  |  0.294 ± 0.024  |\n",
      "ALL          |  0.286 ± 0.007  |  0.273 ± 0.035  |  0.283 ± 0.010  |\n",
      "\n",
      "\n",
      "NUMBER OF TRIALS:\n",
      "             |     CORRECT     |      ERROR      |       ALL       |\n",
      "CONGRUENT    |        41       |         7       |        48       |\n",
      "INCONGRUENT  |         5       |         7       |        12       |\n",
      "ALL          |        46       |        14       |        60       |\n",
      "\n"
     ]
    }
   ],
   "source": [
    "print(f\"\"\"\n",
    "REACTION TIMES:\n",
    "             |     CORRECT     |      ERROR      |       ALL       |\n",
    "CONGRUENT    |  {stats(congruent_correct_rts)}  |  {stats(congruent_error_rts)}  |  {stats(congruent_correct_rts + congruent_error_rts)}  |\n",
    "INCONGRUENT  |  {stats(incongruent_correct_rts)}  |  {stats(incongruent_error_rts)}  |  {stats(incongruent_correct_rts + incongruent_error_rts)}  |\n",
    "ALL          |  {stats(congruent_correct_rts + incongruent_correct_rts)}  |  {stats(congruent_error_rts + incongruent_error_rts)}  |  {stats(congruent_correct_rts + congruent_error_rts + incongruent_correct_rts + incongruent_error_rts)}  |\n",
    "\n",
    "\n",
    "NUMBER OF TRIALS:\n",
    "             |     CORRECT     |      ERROR      |       ALL       |\n",
    "CONGRUENT    |  {print_len(congruent_correct_rts)}  |  {print_len(congruent_error_rts)}  |  {print_len(congruent_correct_rts + congruent_error_rts)}  |\n",
    "INCONGRUENT  |  {print_len(incongruent_correct_rts)}  |  {print_len(incongruent_error_rts)}  |  {print_len(incongruent_correct_rts + incongruent_error_rts)}  |\n",
    "ALL          |  {print_len(congruent_correct_rts + incongruent_correct_rts)}  |  {print_len(congruent_error_rts + incongruent_error_rts)}  |  {print_len(congruent_correct_rts + congruent_error_rts + incongruent_correct_rts + incongruent_error_rts)}  |\n",
    "\"\"\")"
   ]
  },
  {
   "cell_type": "code",
   "execution_count": 27,
   "metadata": {},
   "outputs": [
    {
     "name": "stdout",
     "output_type": "stream",
     "text": [
      "0.2609570026397705 feedback_good 0.42\n",
      "0.2914559841156006 feedback_good 0.3086699018478394\n",
      "0.3106510639190674 feedback_bad 0.27925639152526854\n",
      "0.2776060104370117 feedback_good 0.2884060859680176\n",
      "0.3069448471069336 feedback_bad 0.2803760051727295\n",
      "0.27503204345703125 feedback_good 0.28453099727630615\n",
      "0.30921006202697754  0.28453099727630615\n",
      "0.2578001022338867 feedback_good 0.27709121704101564\n",
      "0.29233789443969727  0.27709121704101564\n",
      "0.22460222244262695 feedback_good 0.2752894401550293\n",
      "0.30844807624816895 feedback_bad 0.2665870189666748\n",
      "0.29182004928588867 feedback_bad 0.270809531211853\n",
      "0.3581061363220215 feedback_bad 0.27503204345703125\n",
      "0.22499513626098633 feedback_good 0.2758042335510254\n",
      "0.2753109931945801  0.2758042335510254\n",
      "0.31115078926086426  0.2758042335510254\n",
      "0.308121919631958 feedback_bad 0.26940202713012695\n",
      "0.3106050491333008 feedback_bad 0.2736245393753052\n",
      "0.1772761344909668 feedback_good 0.27554683685302733\n",
      "0.24108386039733887  0.27554683685302733\n",
      "0.2922990322113037 feedback_bad 0.2679945230484009\n",
      "0.27594494819641113 feedback_bad 0.2722170352935791\n",
      "0.1109609603881836 feedback_good 0.2751233339309692\n",
      "0.22582697868347168 feedback_good 0.2665870189666748\n",
      "0.3902089595794678 feedback_bad 0.26000993251800536\n",
      "0.67523193359375  0.26000993251800536\n",
      "0.2922658920288086 feedback_bad 0.26000993251800536\n",
      "0.261415958404541 feedback_good 0.2698624610900879\n",
      "0.26116013526916504 feedback_bad 0.2603312015533447\n",
      "0.2237868309020996 feedback_good 0.26015212535858157\n",
      "0.0924530029296875  0.26015212535858157\n",
      "0.2758209705352783 feedback_bad 0.2482081651687622\n",
      "0.22526884078979492  0.2482081651687622\n",
      "0.31148386001586914 feedback_bad 0.2482081651687622\n",
      "0.3231520652770996 feedback_bad 0.2482081651687622\n",
      "0.2889270782470703 feedback_bad 0.25056018829345705\n",
      "0.24167394638061523  0.25056018829345705\n",
      "0.2915358543395996  0.25056018829345705\n",
      "0.30858397483825684  0.25056018829345705\n",
      "0.3617401123046875 feedback_bad 0.26133921146392824\n",
      "0.32581090927124023 feedback_bad 0.26133921146392824\n",
      "0.34616708755493164 feedback_bad 0.26133921146392824\n",
      "0.3768939971923828 feedback_bad 0.26133921146392824\n",
      "0.2588980197906494 feedback_good 0.27149946689605714\n",
      "0.3442959785461426 feedback_bad 0.26133921146392824\n",
      "0.30850696563720703 feedback_bad 0.26133921146392824\n",
      "0.32768702507019043 feedback_bad 0.27149946689605714\n",
      "0.29308581352233887 feedback_bad 0.27149946689605714\n",
      "0.15883111953735352  0.27149946689605714\n",
      "0.3068108558654785 feedback_bad 0.27149946689605714\n",
      "0.20823407173156738  0.27149946689605714\n",
      "0.24494695663452148 feedback_good 0.2849952459335327\n",
      "0.2920188903808594 feedback_bad 0.2849952459335327\n",
      "0.1919698715209961  0.2849952459335327\n",
      "0.2584681510925293 feedback_good 0.2849952459335327\n",
      "0.29135894775390625 feedback_bad 0.27149946689605714\n",
      "0.24208402633666992 feedback_good 0.2849952459335327\n",
      "0.3084261417388916 feedback_bad 0.2849952459335327\n",
      "0.31172704696655273 feedback_bad 0.29062938690185547\n",
      "0.25931406021118164 feedback_good 0.29182090759277346\n"
     ]
    }
   ],
   "source": [
    "from collections import Counter\n",
    "\n",
    "c = Counter()\n",
    "\n",
    "for trial in experiment_block:\n",
    "    rt = trial[\"rt\"]\n",
    "    feedback_type = trial[\"feedback_type\"]\n",
    "    threshold_rt = trial[\"threshold_rt\"]\n",
    "    print(rt, feedback_type, threshold_rt)\n",
    "    c.update([feedback_type])\n",
    "\n"
   ]
  },
  {
   "cell_type": "code",
   "execution_count": 25,
   "metadata": {},
   "outputs": [
    {
     "data": {
      "text/plain": [
       "Counter({'feedback_good': 17, 'feedback_bad': 29, '': 14})"
      ]
     },
     "execution_count": 25,
     "metadata": {},
     "output_type": "execute_result"
    }
   ],
   "source": [
    "c"
   ]
  },
  {
   "cell_type": "code",
   "execution_count": null,
   "metadata": {},
   "outputs": [],
   "source": []
  }
 ],
 "metadata": {
  "interpreter": {
   "hash": "7348420d5747b932454f8b240e8a4f1789a39ad7a05a02f3d064d8015316c09c"
  },
  "kernelspec": {
   "display_name": "Python 3.8.12 64-bit ('venv': venv)",
   "language": "python",
   "name": "python3"
  },
  "language_info": {
   "codemirror_mode": {
    "name": "ipython",
    "version": 3
   },
   "file_extension": ".py",
   "mimetype": "text/x-python",
   "name": "python",
   "nbconvert_exporter": "python",
   "pygments_lexer": "ipython3",
   "version": "3.8.12"
  },
  "orig_nbformat": 4
 },
 "nbformat": 4,
 "nbformat_minor": 2
}
