{
 "cells": [
  {
   "cell_type": "code",
   "execution_count": null,
   "metadata": {},
   "outputs": [],
   "source": [
    "import csv\n",
    "import os\n",
    "import glob\n",
    "\n",
    "import numpy as np"
   ]
  },
  {
   "cell_type": "code",
   "execution_count": null,
   "metadata": {},
   "outputs": [],
   "source": [
    "behavioral_data_glob = os.path.join(\"..\", \"results\", \"monetary_incentive_delay_ff062e\", \"behavioral_data\", \"*.csv\")\n",
    "files = glob.glob(behavioral_data_glob)\n",
    "files.sort(key=os.path.getctime)\n",
    "most_recent_file = files[-1]\n",
    "most_recent_file"
   ]
  },
  {
   "cell_type": "code",
   "execution_count": null,
   "metadata": {},
   "outputs": [],
   "source": [
    "with open(most_recent_file, \"r\") as file:\n",
    "    reader = csv.DictReader(file)\n",
    "    rows = [row for row in reader]\n",
    "\n",
    "experiment_rows = [row for row in rows if row[\"block_type\"]==\"experiment\"]"
   ]
  },
  {
   "cell_type": "code",
   "execution_count": null,
   "metadata": {},
   "outputs": [],
   "source": [
    "num_of_positive_feedback = 0\n",
    "num_of_negative_feedback = 0\n",
    "RTs_in_positive = []\n",
    "RTs_in_negative = []\n",
    "RTs_in_neutral = []\n",
    "\n",
    "for row in experiment_rows:\n",
    "    feedback_type = row[\"feedback_type\"]\n",
    "    if feedback_type == \"feedback_good\":\n",
    "        num_of_positive_feedback += 1\n",
    "    elif feedback_type == \"feedback_bad\":\n",
    "        num_of_negative_feedback += 1\n",
    "\n",
    "    rt = row[\"reaction_time\"]\n",
    "    if rt == \"\":\n",
    "        # no reaction was given\n",
    "        continue\n",
    "    rt = float(rt)\n",
    "\n",
    "    if feedback_type == \"feedback_good\":\n",
    "        RTs_in_positive.append(rt)\n",
    "    elif feedback_type == \"feedback_bad\":\n",
    "        RTs_in_negative.append(rt)\n",
    "    elif feedback_type == \"feedback_neutral\":\n",
    "        RTs_in_neutral.append(rt)\n",
    "    else:\n",
    "        raise Exception()"
   ]
  },
  {
   "cell_type": "code",
   "execution_count": null,
   "metadata": {},
   "outputs": [],
   "source": [
    "def stats(data):\n",
    "    if len(data) < 2:\n",
    "        return \"      -      \"\n",
    "    mean = np.mean(data)\n",
    "    # use ddof=1 to calculate sample std, not population std\n",
    "    standard_error = np.std(data, ddof=1) / np.sqrt(len(data))\n",
    "    return f\"{mean:.3f} ± {standard_error:.3f}\"\n",
    "\n",
    "\n",
    "def print_len(data):\n",
    "    return f\"{len(data):8d}     \""
   ]
  },
  {
   "cell_type": "code",
   "execution_count": null,
   "metadata": {},
   "outputs": [],
   "source": [
    "anticipation_times = [row[\"premature_reaction_time_since_cue_offset\"] for row in experiment_rows]\n",
    "anticipation_times = [float(rt) for rt in anticipation_times if rt != \"\"]\n",
    "anticipation_times = [rt for rt in anticipation_times if rt > 1]\n",
    "\n",
    "print(f\"\"\"\n",
    "REACTION TIMES:\n",
    "positive feedback        = {stats(RTs_in_positive)}\n",
    "negative feedback        = {stats(RTs_in_negative)}\n",
    "all incentivised trials  = {stats(RTs_in_positive+RTs_in_negative)}\n",
    "neutral trials           = {stats(RTs_in_neutral)}\n",
    "\n",
    "NUMBER OF TRIALS:\n",
    "positive feedback = {num_of_positive_feedback} \n",
    "negative feedback = {num_of_negative_feedback} \n",
    "percent of positive feedback = {num_of_positive_feedback / (num_of_positive_feedback + num_of_negative_feedback) * 100:.0f} %\n",
    "\n",
    "all trials = {len(experiment_rows)}\n",
    "trials with premature reaction = {len(anticipation_times)}       (reactions >1s after cue offset, but before target)\n",
    "\"\"\"\n",
    ")"
   ]
  }
 ],
 "metadata": {
  "interpreter": {
   "hash": "7348420d5747b932454f8b240e8a4f1789a39ad7a05a02f3d064d8015316c09c"
  },
  "kernelspec": {
   "display_name": "Python 3.8.12 64-bit ('venv': venv)",
   "language": "python",
   "name": "python3"
  },
  "language_info": {
   "codemirror_mode": {
    "name": "ipython",
    "version": 3
   },
   "file_extension": ".py",
   "mimetype": "text/x-python",
   "name": "python",
   "nbconvert_exporter": "python",
   "pygments_lexer": "ipython3",
   "version": "3.8.12"
  }
 },
 "nbformat": 4,
 "nbformat_minor": 2
}
